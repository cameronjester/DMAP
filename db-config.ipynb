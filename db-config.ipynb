{
 "cells": [
  {
   "cell_type": "code",
   "execution_count": 1,
   "id": "0195ec8f-13ae-4ca5-bac0-02f02d08ba7a",
   "metadata": {},
   "outputs": [],
   "source": [
    "import mysql.connector\n",
    "from mysql.connector import Error\n",
    "import pandas as pd\n",
    "import numpy as np"
   ]
  },
  {
   "cell_type": "code",
   "execution_count": 13,
   "id": "48035e5f-6e5a-48cf-9219-f196217edc2f",
   "metadata": {},
   "outputs": [
    {
     "name": "stdout",
     "output_type": "stream",
     "text": [
      "Connected to MySQL database\n",
      "MySQL connection is closed\n"
     ]
    }
   ],
   "source": [
    "# Test that connection works\n",
    "try:\n",
    "    connection = mysql.connector.connect(\n",
    "        host='sql5.freemysqlhosting.net',\n",
    "        user='sql5743967',\n",
    "        password='FsUwn8fAfT',\n",
    "        database='sql5743967'\n",
    "    )\n",
    "    \n",
    "    if connection.is_connected():\n",
    "        print(\"Connected to MySQL database\")\n",
    "    \n",
    "except Error as e:\n",
    "    print(\"Error while connecting to MySQL\", e)\n",
    "finally:\n",
    "    if connection.is_connected():\n",
    "        connection.close()\n",
    "        print(\"MySQL connection is closed\")\n",
    "        "
   ]
  },
  {
   "cell_type": "code",
   "execution_count": 17,
   "id": "cb7536e6-ca0a-413a-a2fa-756897c2357d",
   "metadata": {},
   "outputs": [
    {
     "name": "stdout",
     "output_type": "stream",
     "text": [
      "Table created successfully\n"
     ]
    }
   ],
   "source": [
    "# Create tables per our ERD\n",
    "try:\n",
    "    connection = mysql.connector.connect(\n",
    "        host='sql5.freemysqlhosting.net',\n",
    "        user='sql5743967',\n",
    "        password='FsUwn8fAfT',\n",
    "        database='sql5743967'\n",
    "    )\n",
    "    \n",
    "    if connection.is_connected():\n",
    "        cursor = connection.cursor()\n",
    "        \n",
    "        create_table_query = \"\"\"\n",
    "        CREATE TABLE Bars (\n",
    "            BID INT PRIMARY KEY,\n",
    "            Name TEXT NOT NULL,\n",
    "            Capacity INT,\n",
    "            Flow_rate INT\n",
    "        );\n",
    "        \n",
    "        CREATE TABLE Users (\n",
    "            UID INT PRIMARY KEY,\n",
    "            Name TEXT NOT NULL,\n",
    "            Role INT CHECK (Role IN (1, 2))\n",
    "        );\n",
    "        \n",
    "        CREATE TABLE Reviews (\n",
    "            RID INT PRIMARY KEY,\n",
    "            Timestamp DATETIME NOT NULL,\n",
    "            UID INT,\n",
    "            BID INT,\n",
    "            Count INT,\n",
    "            FOREIGN KEY (UID) REFERENCES Users(UID),\n",
    "            FOREIGN KEY (BID) REFERENCES Bars(BID)\n",
    "        );\n",
    "        \"\"\"\n",
    "        \n",
    "        cursor.execute(create_table_query)\n",
    "        print(\"Table created successfully\")\n",
    "        \n",
    "except Error as e:\n",
    "    print(\"Error:\", e)\n",
    "\n",
    "finally:\n",
    "    if connection.is_connected():\n",
    "        cursor.close()\n",
    "        connection.close()\n",
    "        print(\"Connection closed\")"
   ]
  },
  {
   "cell_type": "code",
   "execution_count": null,
   "id": "86dc2240-3cb5-430d-97f2-63be178d4f37",
   "metadata": {},
   "outputs": [],
   "source": []
  }
 ],
 "metadata": {
  "kernelspec": {
   "display_name": "Python 3 (ipykernel)",
   "language": "python",
   "name": "python3"
  },
  "language_info": {
   "codemirror_mode": {
    "name": "ipython",
    "version": 3
   },
   "file_extension": ".py",
   "mimetype": "text/x-python",
   "name": "python",
   "nbconvert_exporter": "python",
   "pygments_lexer": "ipython3",
   "version": "3.12.7"
  }
 },
 "nbformat": 4,
 "nbformat_minor": 5
}
